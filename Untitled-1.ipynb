{
 "cells": [
  {
   "cell_type": "code",
   "execution_count": 1,
   "metadata": {},
   "outputs": [],
   "source": [
    "import pandas as pd\n",
    "import mysql.connector\n",
    "from mysql.connector import Error\n",
    "from datetime import datetime\n",
    " \n",
    "# Function to create database connection\n",
    "def create_connection(host_name, user_name, user_password, db_name):\n",
    "    connection = None\n",
    "    try:\n",
    "        connection = mysql.connector.connect(\n",
    "            host=host_name,\n",
    "            user=user_name,\n",
    "            password=user_password,\n",
    "            database=db_name,\n",
    "            auth_plugin='mysql_native_password'  #connection to use the mysql_native_password authentication plugin. \n",
    "        )\n",
    "        print(\"Connection to MySQL DB successful\")\n",
    "    except Error as e:\n",
    "        print(f\"The error '{e}' occurred\")\n",
    "    return connection\n",
    " "
   ]
  },
  {
   "cell_type": "code",
   "execution_count": 2,
   "metadata": {},
   "outputs": [],
   "source": [
    "# Load and prepare data\n",
    "agency_info = pd.read_csv(r'Agency_info.csv', encoding='ISO-8859-1')\n",
    "collections_original = pd.read_excel(r\"collections.xlsx\")\n",
    "distribution_original = pd.read_excel(r\"Distribution.xlsx\")\n",
    "needs_assessment_original = pd.read_excel(r\"Need_Assesment.xlsx\")"
   ]
  },
  {
   "cell_type": "code",
   "execution_count": 3,
   "metadata": {},
   "outputs": [],
   "source": [
    "collections_original=collections_original.fillna(0)\n",
    "distribution_original.fillna(0, inplace=True)\n",
    "needs_assessment_original.fillna(0, inplace=True)\n",
    " "
   ]
  },
  {
   "cell_type": "code",
   "execution_count": 4,
   "metadata": {},
   "outputs": [],
   "source": [
    "# Map agency names to AgencyID using Agency_info\n",
    "name_to_id = dict(zip(agency_info['Agency_Name'], agency_info['AgencyID']))\n",
    "collections_original['AgencyID'] = collections_original['Collection Site'].map(name_to_id)\n",
    "distribution_original['AgencyID'] = distribution_original['What is the name of the organization you distributed product to/that picked up product from the United Way office?'].map(name_to_id)\n",
    "needs_assessment_original['AgencyID'] = needs_assessment_original['What is the full name of your organization?'].map(name_to_id)"
   ]
  },
  {
   "cell_type": "code",
   "execution_count": 5,
   "metadata": {},
   "outputs": [],
   "source": [
    "# Get the current year\n",
    "current_year = datetime(datetime.now().year, 1, 1)\n",
    " "
   ]
  },
  {
   "cell_type": "code",
   "execution_count": 6,
   "metadata": {},
   "outputs": [],
   "source": [
    "# Define your database connection parameters\n",
    "host = '127.0.0.1'\n",
    "database = 'period_promise'\n",
    "user = 'root'\n",
    "password = 'Topper@90'"
   ]
  },
  {
   "cell_type": "code",
   "execution_count": 7,
   "metadata": {},
   "outputs": [
    {
     "name": "stdout",
     "output_type": "stream",
     "text": [
      "Connection to MySQL DB successful\n"
     ]
    }
   ],
   "source": [
    "# Create a database connection\n",
    "connection = create_connection(host, user, password, database)"
   ]
  },
  {
   "cell_type": "code",
   "execution_count": 8,
   "metadata": {},
   "outputs": [],
   "source": [
    "# Function to execute query\n",
    "def execute_query(connection, query, params=None):\n",
    "    cursor = connection.cursor()\n",
    "    try:\n",
    "        if params:\n",
    "            cursor.execute(query, params)\n",
    "        else:\n",
    "            cursor.execute(query)\n",
    "        connection.commit()\n",
    "        print(\"Query executed successfully\")\n",
    "    except Error as e:\n",
    "        print(f\"The error '{e}' occurred\")"
   ]
  },
  {
   "cell_type": "code",
   "execution_count": 9,
   "metadata": {},
   "outputs": [],
   "source": [
    "#Print New organisation list\n",
    "new_agency_collections = collections_original[pd.isna(collections_original['AgencyID'])]['Collection Site']\n",
    "new_agency_distribution = distribution_original[pd.isna(distribution_original['AgencyID'])]['What is the name of the organization you distributed product to/that picked up product from the United Way office?']\n",
    "new_agency_needs_assessment = needs_assessment_original[pd.isna(needs_assessment_original['AgencyID'])]['What is the full name of your organization?']\n",
    "new_agency_names = pd.concat([new_agency_collections,new_agency_distribution], ignore_index=True).to_frame(name='New_Agencies')#,new_agency_needs_assessment])\n",
    "new_agency_names.to_excel(r'C:\\Users\\1234\\Desktop\\Capstone Project\\DatabaseSQL\\new_agency_collections.xlsx')\n",
    "\n",
    "#Remove Null Values\n",
    "collections_original =  collections_original[pd.notna(collections_original['AgencyID'])]\n",
    "distribution_original = distribution_original[pd.notna(distribution_original['AgencyID'])]\n",
    "needs_assessment_original = needs_assessment_original[pd.notna(needs_assessment_original['AgencyID'])]\n"
   ]
  },
  {
   "cell_type": "code",
   "execution_count": 10,
   "metadata": {},
   "outputs": [
    {
     "name": "stdout",
     "output_type": "stream",
     "text": [
      "Query executed successfully\n",
      "Query executed successfully\n"
     ]
    }
   ],
   "source": [
    "# Insert data into Collections database\n",
    "for index, row in collections_original.iterrows():\n",
    "    insert_stmt_collections = \"\"\"INSERT INTO collections (AgencyID, Year, Pads, Tampons, Liners, Reusable_Underware, Diva_Cups, Others)\n",
    "                                  VALUES (%s, %s, %s, %s, %s, %s, %s, %s);\"\"\"\n",
    "    data_tuple = (\n",
    "        row['AgencyID'],\n",
    "        current_year,\n",
    "        row['Pads'], \n",
    "        row['Tampons'], \n",
    "        row['Liners'], \n",
    "        row['Reusable_Underware'],  # Corrected column name\n",
    "        row['Diva_Cups'], \n",
    "        row['Others']  # Ensure correct column name\n",
    "    )\n",
    "    execute_query(connection, insert_stmt_collections, data_tuple)\n"
   ]
  },
  {
   "cell_type": "code",
   "execution_count": 11,
   "metadata": {},
   "outputs": [
    {
     "name": "stdout",
     "output_type": "stream",
     "text": [
      "Index(['ID', 'Start time', 'Completion time', 'Email', 'Name',\n",
      "       'Last modified time',\n",
      "       'What is the name of the organization you distributed product to/that picked up product from the United Way office?',\n",
      "       'What is the postal code for this organization?',\n",
      "       'What is the Andar # of the organization you distributed the product to?',\n",
      "       'Pads', 'Tampons', 'Liners', 'Reusable_Underware', 'Diva_Cups',\n",
      "       'Others', 'AgencyID'],\n",
      "      dtype='object')\n"
     ]
    }
   ],
   "source": [
    "print(distribution_original.columns)"
   ]
  },
  {
   "cell_type": "code",
   "execution_count": 12,
   "metadata": {},
   "outputs": [
    {
     "name": "stdout",
     "output_type": "stream",
     "text": [
      "Index(['ID', 'Start time', 'Completion time', 'Email', 'Name',\n",
      "       'Last modified time',\n",
      "       'Do you have UWBC Andar ID#?  It would have been provided to you in our email.',\n",
      "       'Do you have UWBC Andar ID#?  It would have been provided to you in our email.2',\n",
      "       'Please enter the ANDAR ID# we provided you as we have your organizational information already. If you were not provided with a number, please enter '0\"',\n",
      "       'What is your organization's Charitable Registration Number provided by the CRA?',\n",
      "       'Question', 'Question2', 'Question3',\n",
      "       'What is the full name of your organization?', 'Street Address',\n",
      "       'City/Town/Village', 'Postal Code (A1A 1A1)',\n",
      "       'Main Contact Number ( (xxx) 123-4567)', 'City/Town/Village2', 'Pads',\n",
      "       'Tampons', 'Liners', 'Reusable_Underware', 'Diva_Cups', 'Others',\n",
      "       'AgencyID'],\n",
      "      dtype='object')\n"
     ]
    }
   ],
   "source": [
    "print(needs_assessment_original.columns)"
   ]
  },
  {
   "cell_type": "code",
   "execution_count": 13,
   "metadata": {},
   "outputs": [
    {
     "name": "stdout",
     "output_type": "stream",
     "text": [
      "Index(['ID', 'Start time', 'Completion time', 'Email', 'Name',\n",
      "       'Last modified time', 'Community', 'Collection Site', 'Pads', 'Tampons',\n",
      "       'Liners', 'Reusable_Underware', 'Diva_Cups', 'Others', 'AgencyID'],\n",
      "      dtype='object')\n"
     ]
    }
   ],
   "source": [
    "print(collections_original.columns)"
   ]
  },
  {
   "cell_type": "code",
   "execution_count": 14,
   "metadata": {},
   "outputs": [
    {
     "name": "stdout",
     "output_type": "stream",
     "text": [
      "Query executed successfully\n"
     ]
    }
   ],
   "source": [
    "# Insert data into Distribution database\n",
    "insert_stmt_distribution = \"\"\"INSERT INTO distribution (AgencyID, Year, Pads, Tampons, Liners, Reusable_Underware, Diva_Cups, Others)\n",
    "                             VALUES (%s, %s, %s, %s, %s, %s, %s, %s);\"\"\"\n",
    "\n",
    "for index, row in distribution_original.iterrows():\n",
    "    if pd.isnull(row['AgencyID']):  # Check if 'AgencyID' is NaN\n",
    "        print(f\"Skipping row {index} due to NaN AgencyID\")\n",
    "        continue\n",
    "    \n",
    "    data_tuple = (\n",
    "        row['AgencyID'],\n",
    "        current_year,\n",
    "        row['Pads'],\n",
    "        row['Tampons'],\n",
    "        row['Liners'],\n",
    "        row['Reusable_Underware'],  \n",
    "        row['Diva_Cups'],\n",
    "        row['Others']\n",
    "    )\n",
    "    execute_query(connection, insert_stmt_distribution, data_tuple)\n"
   ]
  },
  {
   "cell_type": "code",
   "execution_count": 15,
   "metadata": {},
   "outputs": [
    {
     "name": "stdout",
     "output_type": "stream",
     "text": [
      "Query executed successfully\n"
     ]
    }
   ],
   "source": [
    "# Insert data into Needs_Assessment database\n",
    "insert_stmt_needs_assessment = \"\"\"INSERT INTO needs_assessment (AgencyID,Year,Pads,Tampoons,Liners,Reusable_Underware,Diva_Cups)\n",
    "                             VALUES (%s, %s, %s, %s, %s, %s, %s);\"\"\"\n",
    "\n",
    "for index, row in needs_assessment_original.iterrows():\n",
    "    if pd.isnull(row['AgencyID']):  # Check if 'AgencyID' is NaN\n",
    "        print(f\"Skipping row {index} due to NaN AgencyID\")\n",
    "        continue\n",
    "    \n",
    "    data_tuple = (\n",
    "        row['AgencyID'],\n",
    "        current_year,\n",
    "        row['Pads'],\n",
    "        row['Tampons'],\n",
    "        row['Liners'],\n",
    "        row['Reusable_Underware'],  # Ensure this column name matches your database schema\n",
    "        row['Diva_Cups']\n",
    "    )\n",
    "    execute_query(connection, insert_stmt_needs_assessment, data_tuple)\n"
   ]
  },
  {
   "cell_type": "code",
   "execution_count": 16,
   "metadata": {},
   "outputs": [],
   "source": [
    "# Close the database connection when done\n",
    "connection.close()"
   ]
  }
 ],
 "metadata": {
  "kernelspec": {
   "display_name": "Python 3",
   "language": "python",
   "name": "python3"
  },
  "language_info": {
   "codemirror_mode": {
    "name": "ipython",
    "version": 3
   },
   "file_extension": ".py",
   "mimetype": "text/x-python",
   "name": "python",
   "nbconvert_exporter": "python",
   "pygments_lexer": "ipython3",
   "version": "3.12.2"
  }
 },
 "nbformat": 4,
 "nbformat_minor": 2
}
